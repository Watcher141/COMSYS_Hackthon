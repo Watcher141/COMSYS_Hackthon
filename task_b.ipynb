{
 "cells": [
  {
   "cell_type": "code",
   "execution_count": 4,
   "metadata": {
    "colab": {
     "base_uri": "https://localhost:8080/"
    },
    "id": "goNDrecGh8Nj",
    "outputId": "c24f96df-31db-4044-b845-3aa60ec2c24d"
   },
   "outputs": [],
   "source": [
    "import os\n",
    "from PIL import Image\n",
    "import torch\n",
    "from torch.utils.data import Dataset, DataLoader\n",
    "from facenet_pytorch import MTCNN, InceptionResnetV1\n",
    "import torch.nn as nn\n",
    "import torch.optim as optim\n",
    "from tqdm import tqdm"
   ]
  },
  {
   "cell_type": "code",
   "execution_count": 5,
   "metadata": {
    "colab": {
     "base_uri": "https://localhost:8080/",
     "height": 49,
     "referenced_widgets": [
      "8ecfc4d166d54a3badda18490b6ba753",
      "111422b46cf24d7c87084d8eb5894050",
      "e5d81377366943e092cbd4e87c0b3ae7",
      "6978e8f430e4498fbd568e232b75250d",
      "a274c762ef4f429a82c9d237a6136949",
      "885bc7781f1a43f68d5e18439d47dcac",
      "20871acdbe73425bb4ac435f2e221bc0",
      "2fc824e6f9154484811a0ff7c0a49453",
      "9cef67675ccd412f8aa48d8934566380",
      "70970a762de04d8d9d1467cb69c2c87b",
      "79d9d70e1b8444e7849f56310f1c8b83"
     ]
    },
    "id": "c4f4Z-UEfbOr",
    "outputId": "4d7c392d-9ef9-42ef-f473-22251bb87521"
   },
   "outputs": [],
   "source": [
    "DATASET_PATH = 'Task_B/train'\n",
    "DATASET_PATH1 = 'Task_B/val'\n",
    "BATCH_SIZE = 16\n",
    "EPOCHS = 10\n",
    "EMBEDDING_DIM = 512\n",
    "device = torch.device('cuda' if torch.cuda.is_available() else 'cpu')"
   ]
  },
  {
   "cell_type": "code",
   "execution_count": 6,
   "metadata": {
    "id": "cjQZdhAAh3G5"
   },
   "outputs": [],
   "source": [
    "# Face detector (MTCNN) and frozen FaceNet (InceptionResnetV1)\n",
    "mtcnn = MTCNN(image_size=160, margin=20, device=device)\n",
    "resnet = InceptionResnetV1(pretrained='vggface2').eval().to(device)\n",
    "for param in resnet.parameters():\n",
    "    param.requires_grad = False  # Freeze for now"
   ]
  },
  {
   "cell_type": "code",
   "execution_count": 7,
   "metadata": {
    "id": "QzsP5u7clvb_"
   },
   "outputs": [],
   "source": [
    "class FaceDataset(Dataset):\n",
    "    def __init__(self, root_dir):\n",
    "        self.samples = []\n",
    "        self.label_map = {}\n",
    "        self._load_data(root_dir)\n",
    "\n",
    "    def _load_data(self, root_dir):\n",
    "        label_index = 0\n",
    "        for person in sorted(os.listdir(root_dir)):\n",
    "            person_path = os.path.join(root_dir, person)\n",
    "            if not os.path.isdir(person_path):\n",
    "                continue\n",
    "\n",
    "            if person not in self.label_map:\n",
    "                self.label_map[person] = label_index\n",
    "                label_index += 1\n",
    "            label = self.label_map[person]\n",
    "\n",
    "            # Original image\n",
    "            original_img = os.path.join(person_path, f\"{person}.jpg\")\n",
    "            if os.path.exists(original_img):\n",
    "                self.samples.append((original_img, label))\n",
    "\n",
    "            # Distorted images\n",
    "            distortion_dir = os.path.join(person_path, \"distortion\")\n",
    "            if os.path.isdir(distortion_dir):\n",
    "                for img_name in os.listdir(distortion_dir):\n",
    "                    if img_name.lower().endswith(('.jpg', '.jpeg', '.png')):\n",
    "                        self.samples.append((os.path.join(distortion_dir, img_name), label))\n",
    "\n",
    "    def __len__(self):\n",
    "        return len(self.samples)\n",
    "\n",
    "    def __getitem__(self, idx):\n",
    "        img_path, label = self.samples[idx]\n",
    "        img = Image.open(img_path).convert('RGB')\n",
    "        face = mtcnn(img)\n",
    "        if face is None:\n",
    "            # Retry next index if face not found\n",
    "            return self.__getitem__((idx + 1) % len(self.samples))\n",
    "        with torch.no_grad():\n",
    "            embedding = resnet(face.unsqueeze(0).to(device)).squeeze(0).cpu()\n",
    "        return embedding, label\n"
   ]
  },
  {
   "cell_type": "code",
   "execution_count": 8,
   "metadata": {
    "id": "3WeqY6yWlzfl"
   },
   "outputs": [],
   "source": [
    "class ClassifierHead(nn.Module):\n",
    "    def __init__(self, embedding_dim=512, num_classes=10):\n",
    "        super().__init__()\n",
    "        self.classifier = nn.Sequential(\n",
    "            nn.Linear(embedding_dim, 256),\n",
    "            nn.ReLU(),\n",
    "            nn.Dropout(0.4),\n",
    "            nn.Linear(256, num_classes)\n",
    "        )\n",
    "\n",
    "    def forward(self, x):\n",
    "        return self.classifier(x)"
   ]
  },
  {
   "cell_type": "code",
   "execution_count": 9,
   "metadata": {
    "id": "2_l3MrXql4Ko"
   },
   "outputs": [],
   "source": [
    "# Load dataset and model\n",
    "train_dataset = FaceDataset(DATASET_PATH)\n",
    "train_loader = DataLoader(train_dataset, batch_size=BATCH_SIZE, shuffle=True)\n",
    "\n",
    "\n",
    "val_dataset = FaceDataset(DATASET_PATH1)\n",
    "val_loader = DataLoader(train_dataset, batch_size=BATCH_SIZE, shuffle=True)\n",
    "\n",
    "num_classes = len(train_dataset.label_map)\n",
    "classifier = ClassifierHead(embedding_dim=EMBEDDING_DIM, num_classes=num_classes).to(device)\n",
    "\n",
    "criterion = nn.CrossEntropyLoss()\n",
    "optimizer = optim.Adam(classifier.parameters(), lr=1e-3)\n"
   ]
  },
  {
   "cell_type": "code",
   "execution_count": 15,
   "metadata": {
    "id": "8RmQXT17If1y"
   },
   "outputs": [
    {
     "name": "stdout",
     "output_type": "stream",
     "text": [
      "\n",
      "Epoch 1/10\n"
     ]
    },
    {
     "name": "stderr",
     "output_type": "stream",
     "text": [
      "Training: 100%|██████████████████████████████████████████████████████████████████████| 187/187 [15:29<00:00,  4.97s/it]\n",
      "Validation: 100%|████████████████████████████████████████████████████████████████████| 187/187 [08:15<00:00,  2.65s/it]\n"
     ]
    },
    {
     "name": "stdout",
     "output_type": "stream",
     "text": [
      "Train Loss: 1.2453 | Train Acc: 79.51%\n",
      "Val   Loss: 0.6803 | Val   Acc: 91.68%\n",
      "✅ New best model saved (Val Acc: 91.68%)\n",
      "\n",
      "Epoch 2/10\n"
     ]
    },
    {
     "name": "stderr",
     "output_type": "stream",
     "text": [
      "Training: 100%|██████████████████████████████████████████████████████████████████████| 187/187 [13:10<00:00,  4.23s/it]\n",
      "Validation: 100%|████████████████████████████████████████████████████████████████████| 187/187 [12:12<00:00,  3.91s/it]\n"
     ]
    },
    {
     "name": "stdout",
     "output_type": "stream",
     "text": [
      "Train Loss: 0.7013 | Train Acc: 89.67%\n",
      "Val   Loss: 0.4247 | Val   Acc: 93.59%\n",
      "✅ New best model saved (Val Acc: 93.59%)\n",
      "\n",
      "Epoch 3/10\n"
     ]
    },
    {
     "name": "stderr",
     "output_type": "stream",
     "text": [
      "Training: 100%|██████████████████████████████████████████████████████████████████████| 187/187 [09:42<00:00,  3.11s/it]\n",
      "Validation: 100%|████████████████████████████████████████████████████████████████████| 187/187 [09:23<00:00,  3.01s/it]\n"
     ]
    },
    {
     "name": "stdout",
     "output_type": "stream",
     "text": [
      "Train Loss: 0.5135 | Train Acc: 91.45%\n",
      "Val   Loss: 0.3174 | Val   Acc: 95.24%\n",
      "✅ New best model saved (Val Acc: 95.24%)\n",
      "\n",
      "Epoch 4/10\n"
     ]
    },
    {
     "name": "stderr",
     "output_type": "stream",
     "text": [
      "Training: 100%|██████████████████████████████████████████████████████████████████████| 187/187 [08:32<00:00,  2.74s/it]\n",
      "Validation: 100%|████████████████████████████████████████████████████████████████████| 187/187 [07:58<00:00,  2.56s/it]\n"
     ]
    },
    {
     "name": "stdout",
     "output_type": "stream",
     "text": [
      "Train Loss: 0.4108 | Train Acc: 92.59%\n",
      "Val   Loss: 0.2541 | Val   Acc: 96.11%\n",
      "✅ New best model saved (Val Acc: 96.11%)\n",
      "\n",
      "Epoch 5/10\n"
     ]
    },
    {
     "name": "stderr",
     "output_type": "stream",
     "text": [
      "Training: 100%|██████████████████████████████████████████████████████████████████████| 187/187 [08:32<00:00,  2.74s/it]\n",
      "Validation: 100%|████████████████████████████████████████████████████████████████████| 187/187 [08:09<00:00,  2.62s/it]\n"
     ]
    },
    {
     "name": "stdout",
     "output_type": "stream",
     "text": [
      "Train Loss: 0.3428 | Train Acc: 93.76%\n",
      "Val   Loss: 0.2094 | Val   Acc: 96.95%\n",
      "✅ New best model saved (Val Acc: 96.95%)\n",
      "\n",
      "Epoch 6/10\n"
     ]
    },
    {
     "name": "stderr",
     "output_type": "stream",
     "text": [
      "Training: 100%|██████████████████████████████████████████████████████████████████████| 187/187 [08:25<00:00,  2.70s/it]\n",
      "Validation: 100%|████████████████████████████████████████████████████████████████████| 187/187 [08:40<00:00,  2.79s/it]\n"
     ]
    },
    {
     "name": "stdout",
     "output_type": "stream",
     "text": [
      "Train Loss: 0.3101 | Train Acc: 93.96%\n",
      "Val   Loss: 0.1790 | Val   Acc: 97.35%\n",
      "✅ New best model saved (Val Acc: 97.35%)\n",
      "\n",
      "Epoch 7/10\n"
     ]
    },
    {
     "name": "stderr",
     "output_type": "stream",
     "text": [
      "Training: 100%|██████████████████████████████████████████████████████████████████████| 187/187 [08:50<00:00,  2.84s/it]\n",
      "Validation: 100%|████████████████████████████████████████████████████████████████████| 187/187 [08:36<00:00,  2.76s/it]\n"
     ]
    },
    {
     "name": "stdout",
     "output_type": "stream",
     "text": [
      "Train Loss: 0.2687 | Train Acc: 94.94%\n",
      "Val   Loss: 0.1524 | Val   Acc: 97.28%\n",
      "✅ New best model saved (Val Acc: 97.28%)\n",
      "\n",
      "Epoch 8/10\n"
     ]
    },
    {
     "name": "stderr",
     "output_type": "stream",
     "text": [
      "Training: 100%|██████████████████████████████████████████████████████████████████████| 187/187 [08:44<00:00,  2.81s/it]\n",
      "Validation: 100%|████████████████████████████████████████████████████████████████████| 187/187 [06:30<00:00,  2.09s/it]\n"
     ]
    },
    {
     "name": "stdout",
     "output_type": "stream",
     "text": [
      "Train Loss: 0.2297 | Train Acc: 95.51%\n",
      "Val   Loss: 0.1285 | Val   Acc: 97.75%\n",
      "✅ New best model saved (Val Acc: 97.75%)\n",
      "\n",
      "Epoch 9/10\n"
     ]
    },
    {
     "name": "stderr",
     "output_type": "stream",
     "text": [
      "Training: 100%|██████████████████████████████████████████████████████████████████████| 187/187 [06:11<00:00,  1.99s/it]\n",
      "Validation: 100%|████████████████████████████████████████████████████████████████████| 187/187 [06:21<00:00,  2.04s/it]\n"
     ]
    },
    {
     "name": "stdout",
     "output_type": "stream",
     "text": [
      "Train Loss: 0.2098 | Train Acc: 96.04%\n",
      "Val   Loss: 0.1091 | Val   Acc: 98.26%\n",
      "✅ New best model saved (Val Acc: 98.26%)\n",
      "\n",
      "Epoch 10/10\n"
     ]
    },
    {
     "name": "stderr",
     "output_type": "stream",
     "text": [
      "Training: 100%|██████████████████████████████████████████████████████████████████████| 187/187 [05:49<00:00,  1.87s/it]\n",
      "Validation: 100%|████████████████████████████████████████████████████████████████████| 187/187 [05:50<00:00,  1.87s/it]"
     ]
    },
    {
     "name": "stdout",
     "output_type": "stream",
     "text": [
      "Train Loss: 0.1851 | Train Acc: 96.58%\n",
      "Val   Loss: 0.0948 | Val   Acc: 98.49%\n",
      "✅ New best model saved (Val Acc: 98.49%)\n"
     ]
    },
    {
     "name": "stderr",
     "output_type": "stream",
     "text": [
      "\n"
     ]
    }
   ],
   "source": [
    "for epoch in range(EPOCHS):\n",
    "    classifier.train()\n",
    "    total_loss = 0\n",
    "    correct = 0\n",
    "    total = 0\n",
    "\n",
    "    print(f\"\\nEpoch {epoch+1}/{EPOCHS}\")\n",
    "    for embeddings, labels in tqdm(train_loader, desc='Training'):\n",
    "        embeddings, labels = embeddings.to(device), labels.to(device)\n",
    "\n",
    "        outputs = classifier(embeddings)\n",
    "        loss = criterion(outputs, labels)\n",
    "\n",
    "        loss.backward()\n",
    "        optimizer.step()\n",
    "        optimizer.zero_grad()\n",
    "\n",
    "        total_loss += loss.item()\n",
    "        _, preds = torch.max(outputs, 1)\n",
    "        correct += (preds == labels).sum().item()\n",
    "        total += labels.size(0)\n",
    "\n",
    "    train_loss = total_loss / len(train_loader)\n",
    "    train_acc = 100 * correct / total\n",
    "\n",
    "    # Validation Step\n",
    "    classifier.eval()\n",
    "    val_loss = 0\n",
    "    val_correct = 0\n",
    "    val_total = 0\n",
    "    with torch.no_grad():\n",
    "        for embeddings, labels in tqdm(val_loader, desc='Validation'):\n",
    "            embeddings, labels = embeddings.to(device), labels.to(device)\n",
    "            outputs = classifier(embeddings)\n",
    "            loss = criterion(outputs, labels)\n",
    "\n",
    "            val_loss += loss.item()\n",
    "            _, preds = torch.max(outputs, 1)\n",
    "            val_correct += (preds == labels).sum().item()\n",
    "            val_total += labels.size(0)\n",
    "\n",
    "    val_loss /= len(val_loader)\n",
    "    val_acc = 100 * val_correct / val_total\n",
    "\n",
    "    print(f\"Train Loss: {train_loss:.4f} | Train Acc: {train_acc:.2f}%\")\n",
    "    print(f\"Val   Loss: {val_loss:.4f} | Val   Acc: {val_acc:.2f}%\")\n",
    "\n",
    "    # Early Stopping Check\n",
    "    best_val_acc = 0\n",
    "    patience = 1         # You can increase this if needed\n",
    "    counter = 0\n",
    "\n",
    "    if val_acc > best_val_acc:\n",
    "        best_val_acc = val_acc\n",
    "        counter = 0\n",
    "        torch.save(classifier.state_dict(), 'best_classifier.pth')\n",
    "        print(f\"✅ New best model saved (Val Acc: {val_acc:.2f}%)\")\n",
    "    else:\n",
    "        counter += 1\n",
    "        print(f\"⏳ No improvement for {counter} epoch(s)\")\n",
    "\n",
    "    if counter >= patience:\n",
    "        print(\"⛔ Early stopping triggered.\")\n",
    "        break\n"
   ]
  },
  {
   "cell_type": "code",
   "execution_count": 1,
   "metadata": {},
   "outputs": [
    {
     "name": "stderr",
     "output_type": "stream",
     "text": [
      "C:\\Users\\monoj\\AppData\\Roaming\\Python\\Python312\\site-packages\\tqdm\\auto.py:21: TqdmWarning: IProgress not found. Please update jupyter and ipywidgets. See https://ipywidgets.readthedocs.io/en/stable/user_install.html\n",
      "  from .autonotebook import tqdm as notebook_tqdm\n"
     ]
    }
   ],
   "source": [
    "from PIL import Image\n",
    "import torch\n",
    "from facenet_pytorch import MTCNN, InceptionResnetV1\n",
    "import torch.nn as nn\n",
    "import os\n",
    "\n",
    "device = torch.device('cuda' if torch.cuda.is_available() else 'cpu')\n",
    "\n",
    "# MTCNN and FaceNet\n",
    "mtcnn = MTCNN(image_size=160, margin=20, device=device)\n",
    "resnet = InceptionResnetV1(pretrained='vggface2').eval().to(device)\n",
    "\n",
    "# Classifier Head\n",
    "class ClassifierHead(nn.Module):\n",
    "    def __init__(self, embedding_dim=512, num_classes=10):\n",
    "        super().__init__()\n",
    "        self.classifier = nn.Sequential(\n",
    "            nn.Linear(embedding_dim, 256),\n",
    "            nn.ReLU(),\n",
    "            nn.Dropout(0.4),\n",
    "            nn.Linear(256, num_classes)\n",
    "        )\n",
    "    def forward(self, x):\n",
    "        return self.classifier(x)\n"
   ]
  },
  {
   "cell_type": "code",
   "execution_count": 10,
   "metadata": {},
   "outputs": [],
   "source": [
    "label_map = val_dataset.label_map\n",
    "inv_label_map = {v: k for k, v in label_map.items()}\n"
   ]
  },
  {
   "cell_type": "code",
   "execution_count": 11,
   "metadata": {},
   "outputs": [
    {
     "data": {
      "text/plain": [
       "ClassifierHead(\n",
       "  (classifier): Sequential(\n",
       "    (0): Linear(in_features=512, out_features=256, bias=True)\n",
       "    (1): ReLU()\n",
       "    (2): Dropout(p=0.4, inplace=False)\n",
       "    (3): Linear(in_features=256, out_features=250, bias=True)\n",
       "  )\n",
       ")"
      ]
     },
     "execution_count": 11,
     "metadata": {},
     "output_type": "execute_result"
    }
   ],
   "source": [
    "# Make sure num_classes matches the training setup\n",
    "classifier = ClassifierHead(num_classes=len(label_map)).to(device)\n",
    "classifier.load_state_dict(torch.load('best_classifier.pth', map_location=device))\n",
    "classifier.eval()\n"
   ]
  },
  {
   "cell_type": "code",
   "execution_count": 13,
   "metadata": {},
   "outputs": [],
   "source": [
    "def predict_image(image_path):\n",
    "    img = Image.open(image_path).convert('RGB')\n",
    "    \n",
    "    # Detect face\n",
    "    face = mtcnn(img)\n",
    "    if face is None:\n",
    "        print(\"❌ No face detected in the image.\")\n",
    "        return\n",
    "    \n",
    "    # Extract embedding\n",
    "    with torch.no_grad():\n",
    "        embedding = resnet(face.unsqueeze(0).to(device))\n",
    "\n",
    "        # Predict\n",
    "        output = classifier(embedding)\n",
    "        _, pred = torch.max(output, 1)\n",
    "        predicted_label = pred.item()\n",
    "    \n",
    "    print(f\"✅ Predicted: {inv_label_map[predicted_label]}\")\n"
   ]
  },
  {
   "cell_type": "code",
   "execution_count": 14,
   "metadata": {},
   "outputs": [
    {
     "name": "stdout",
     "output_type": "stream",
     "text": [
      "✅ Predicted: Bill_Readdy\n"
     ]
    }
   ],
   "source": [
    "predict_image('Task_B/val/Bill_Readdy/distortion/Bill_Readdy_0001_noisy.jpg')\n"
   ]
  },
  {
   "cell_type": "code",
   "execution_count": 15,
   "metadata": {},
   "outputs": [
    {
     "name": "stdout",
     "output_type": "stream",
     "text": [
      "✅ Predicted: Gloria_Gaynor\n"
     ]
    }
   ],
   "source": [
    "predict_image('Task_B/val/Gloria_Gaynor/Gloria_Gaynor_0001.jpg')"
   ]
  }
 ],
 "metadata": {
  "accelerator": "GPU",
  "colab": {
   "gpuType": "T4",
   "provenance": []
  },
  "kernelspec": {
   "display_name": "Python 3 (ipykernel)",
   "language": "python",
   "name": "python3"
  },
  "language_info": {
   "codemirror_mode": {
    "name": "ipython",
    "version": 3
   },
   "file_extension": ".py",
   "mimetype": "text/x-python",
   "name": "python",
   "nbconvert_exporter": "python",
   "pygments_lexer": "ipython3",
   "version": "3.12.6"
  },
  "widgets": {
   "application/vnd.jupyter.widget-state+json": {
    "111422b46cf24d7c87084d8eb5894050": {
     "model_module": "@jupyter-widgets/controls",
     "model_module_version": "1.5.0",
     "model_name": "HTMLModel",
     "state": {
      "_dom_classes": [],
      "_model_module": "@jupyter-widgets/controls",
      "_model_module_version": "1.5.0",
      "_model_name": "HTMLModel",
      "_view_count": null,
      "_view_module": "@jupyter-widgets/controls",
      "_view_module_version": "1.5.0",
      "_view_name": "HTMLView",
      "description": "",
      "description_tooltip": null,
      "layout": "IPY_MODEL_885bc7781f1a43f68d5e18439d47dcac",
      "placeholder": "​",
      "style": "IPY_MODEL_20871acdbe73425bb4ac435f2e221bc0",
      "value": "100%"
     }
    },
    "20871acdbe73425bb4ac435f2e221bc0": {
     "model_module": "@jupyter-widgets/controls",
     "model_module_version": "1.5.0",
     "model_name": "DescriptionStyleModel",
     "state": {
      "_model_module": "@jupyter-widgets/controls",
      "_model_module_version": "1.5.0",
      "_model_name": "DescriptionStyleModel",
      "_view_count": null,
      "_view_module": "@jupyter-widgets/base",
      "_view_module_version": "1.2.0",
      "_view_name": "StyleView",
      "description_width": ""
     }
    },
    "2fc824e6f9154484811a0ff7c0a49453": {
     "model_module": "@jupyter-widgets/base",
     "model_module_version": "1.2.0",
     "model_name": "LayoutModel",
     "state": {
      "_model_module": "@jupyter-widgets/base",
      "_model_module_version": "1.2.0",
      "_model_name": "LayoutModel",
      "_view_count": null,
      "_view_module": "@jupyter-widgets/base",
      "_view_module_version": "1.2.0",
      "_view_name": "LayoutView",
      "align_content": null,
      "align_items": null,
      "align_self": null,
      "border": null,
      "bottom": null,
      "display": null,
      "flex": null,
      "flex_flow": null,
      "grid_area": null,
      "grid_auto_columns": null,
      "grid_auto_flow": null,
      "grid_auto_rows": null,
      "grid_column": null,
      "grid_gap": null,
      "grid_row": null,
      "grid_template_areas": null,
      "grid_template_columns": null,
      "grid_template_rows": null,
      "height": null,
      "justify_content": null,
      "justify_items": null,
      "left": null,
      "margin": null,
      "max_height": null,
      "max_width": null,
      "min_height": null,
      "min_width": null,
      "object_fit": null,
      "object_position": null,
      "order": null,
      "overflow": null,
      "overflow_x": null,
      "overflow_y": null,
      "padding": null,
      "right": null,
      "top": null,
      "visibility": null,
      "width": null
     }
    },
    "6978e8f430e4498fbd568e232b75250d": {
     "model_module": "@jupyter-widgets/controls",
     "model_module_version": "1.5.0",
     "model_name": "HTMLModel",
     "state": {
      "_dom_classes": [],
      "_model_module": "@jupyter-widgets/controls",
      "_model_module_version": "1.5.0",
      "_model_name": "HTMLModel",
      "_view_count": null,
      "_view_module": "@jupyter-widgets/controls",
      "_view_module_version": "1.5.0",
      "_view_name": "HTMLView",
      "description": "",
      "description_tooltip": null,
      "layout": "IPY_MODEL_70970a762de04d8d9d1467cb69c2c87b",
      "placeholder": "​",
      "style": "IPY_MODEL_79d9d70e1b8444e7849f56310f1c8b83",
      "value": " 107M/107M [00:00&lt;00:00, 184MB/s]"
     }
    },
    "70970a762de04d8d9d1467cb69c2c87b": {
     "model_module": "@jupyter-widgets/base",
     "model_module_version": "1.2.0",
     "model_name": "LayoutModel",
     "state": {
      "_model_module": "@jupyter-widgets/base",
      "_model_module_version": "1.2.0",
      "_model_name": "LayoutModel",
      "_view_count": null,
      "_view_module": "@jupyter-widgets/base",
      "_view_module_version": "1.2.0",
      "_view_name": "LayoutView",
      "align_content": null,
      "align_items": null,
      "align_self": null,
      "border": null,
      "bottom": null,
      "display": null,
      "flex": null,
      "flex_flow": null,
      "grid_area": null,
      "grid_auto_columns": null,
      "grid_auto_flow": null,
      "grid_auto_rows": null,
      "grid_column": null,
      "grid_gap": null,
      "grid_row": null,
      "grid_template_areas": null,
      "grid_template_columns": null,
      "grid_template_rows": null,
      "height": null,
      "justify_content": null,
      "justify_items": null,
      "left": null,
      "margin": null,
      "max_height": null,
      "max_width": null,
      "min_height": null,
      "min_width": null,
      "object_fit": null,
      "object_position": null,
      "order": null,
      "overflow": null,
      "overflow_x": null,
      "overflow_y": null,
      "padding": null,
      "right": null,
      "top": null,
      "visibility": null,
      "width": null
     }
    },
    "79d9d70e1b8444e7849f56310f1c8b83": {
     "model_module": "@jupyter-widgets/controls",
     "model_module_version": "1.5.0",
     "model_name": "DescriptionStyleModel",
     "state": {
      "_model_module": "@jupyter-widgets/controls",
      "_model_module_version": "1.5.0",
      "_model_name": "DescriptionStyleModel",
      "_view_count": null,
      "_view_module": "@jupyter-widgets/base",
      "_view_module_version": "1.2.0",
      "_view_name": "StyleView",
      "description_width": ""
     }
    },
    "885bc7781f1a43f68d5e18439d47dcac": {
     "model_module": "@jupyter-widgets/base",
     "model_module_version": "1.2.0",
     "model_name": "LayoutModel",
     "state": {
      "_model_module": "@jupyter-widgets/base",
      "_model_module_version": "1.2.0",
      "_model_name": "LayoutModel",
      "_view_count": null,
      "_view_module": "@jupyter-widgets/base",
      "_view_module_version": "1.2.0",
      "_view_name": "LayoutView",
      "align_content": null,
      "align_items": null,
      "align_self": null,
      "border": null,
      "bottom": null,
      "display": null,
      "flex": null,
      "flex_flow": null,
      "grid_area": null,
      "grid_auto_columns": null,
      "grid_auto_flow": null,
      "grid_auto_rows": null,
      "grid_column": null,
      "grid_gap": null,
      "grid_row": null,
      "grid_template_areas": null,
      "grid_template_columns": null,
      "grid_template_rows": null,
      "height": null,
      "justify_content": null,
      "justify_items": null,
      "left": null,
      "margin": null,
      "max_height": null,
      "max_width": null,
      "min_height": null,
      "min_width": null,
      "object_fit": null,
      "object_position": null,
      "order": null,
      "overflow": null,
      "overflow_x": null,
      "overflow_y": null,
      "padding": null,
      "right": null,
      "top": null,
      "visibility": null,
      "width": null
     }
    },
    "8ecfc4d166d54a3badda18490b6ba753": {
     "model_module": "@jupyter-widgets/controls",
     "model_module_version": "1.5.0",
     "model_name": "HBoxModel",
     "state": {
      "_dom_classes": [],
      "_model_module": "@jupyter-widgets/controls",
      "_model_module_version": "1.5.0",
      "_model_name": "HBoxModel",
      "_view_count": null,
      "_view_module": "@jupyter-widgets/controls",
      "_view_module_version": "1.5.0",
      "_view_name": "HBoxView",
      "box_style": "",
      "children": [
       "IPY_MODEL_111422b46cf24d7c87084d8eb5894050",
       "IPY_MODEL_e5d81377366943e092cbd4e87c0b3ae7",
       "IPY_MODEL_6978e8f430e4498fbd568e232b75250d"
      ],
      "layout": "IPY_MODEL_a274c762ef4f429a82c9d237a6136949"
     }
    },
    "9cef67675ccd412f8aa48d8934566380": {
     "model_module": "@jupyter-widgets/controls",
     "model_module_version": "1.5.0",
     "model_name": "ProgressStyleModel",
     "state": {
      "_model_module": "@jupyter-widgets/controls",
      "_model_module_version": "1.5.0",
      "_model_name": "ProgressStyleModel",
      "_view_count": null,
      "_view_module": "@jupyter-widgets/base",
      "_view_module_version": "1.2.0",
      "_view_name": "StyleView",
      "bar_color": null,
      "description_width": ""
     }
    },
    "a274c762ef4f429a82c9d237a6136949": {
     "model_module": "@jupyter-widgets/base",
     "model_module_version": "1.2.0",
     "model_name": "LayoutModel",
     "state": {
      "_model_module": "@jupyter-widgets/base",
      "_model_module_version": "1.2.0",
      "_model_name": "LayoutModel",
      "_view_count": null,
      "_view_module": "@jupyter-widgets/base",
      "_view_module_version": "1.2.0",
      "_view_name": "LayoutView",
      "align_content": null,
      "align_items": null,
      "align_self": null,
      "border": null,
      "bottom": null,
      "display": null,
      "flex": null,
      "flex_flow": null,
      "grid_area": null,
      "grid_auto_columns": null,
      "grid_auto_flow": null,
      "grid_auto_rows": null,
      "grid_column": null,
      "grid_gap": null,
      "grid_row": null,
      "grid_template_areas": null,
      "grid_template_columns": null,
      "grid_template_rows": null,
      "height": null,
      "justify_content": null,
      "justify_items": null,
      "left": null,
      "margin": null,
      "max_height": null,
      "max_width": null,
      "min_height": null,
      "min_width": null,
      "object_fit": null,
      "object_position": null,
      "order": null,
      "overflow": null,
      "overflow_x": null,
      "overflow_y": null,
      "padding": null,
      "right": null,
      "top": null,
      "visibility": null,
      "width": null
     }
    },
    "e5d81377366943e092cbd4e87c0b3ae7": {
     "model_module": "@jupyter-widgets/controls",
     "model_module_version": "1.5.0",
     "model_name": "FloatProgressModel",
     "state": {
      "_dom_classes": [],
      "_model_module": "@jupyter-widgets/controls",
      "_model_module_version": "1.5.0",
      "_model_name": "FloatProgressModel",
      "_view_count": null,
      "_view_module": "@jupyter-widgets/controls",
      "_view_module_version": "1.5.0",
      "_view_name": "ProgressView",
      "bar_style": "success",
      "description": "",
      "description_tooltip": null,
      "layout": "IPY_MODEL_2fc824e6f9154484811a0ff7c0a49453",
      "max": 111898327,
      "min": 0,
      "orientation": "horizontal",
      "style": "IPY_MODEL_9cef67675ccd412f8aa48d8934566380",
      "value": 111898327
     }
    }
   }
  }
 },
 "nbformat": 4,
 "nbformat_minor": 4
}
